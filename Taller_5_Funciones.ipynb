{
  "cells": [
    {
      "cell_type": "markdown",
      "metadata": {
        "id": "view-in-github",
        "colab_type": "text"
      },
      "source": [
        "<a href=\"https://colab.research.google.com/github/Josegallego17/Taller_5/blob/main/Taller_5_Funciones.ipynb\" target=\"_parent\"><img src=\"https://colab.research.google.com/assets/colab-badge.svg\" alt=\"Open In Colab\"/></a>"
      ]
    },
    {
      "cell_type": "markdown",
      "id": "66beb5a1",
      "metadata": {
        "id": "66beb5a1"
      },
      "source": [
        "# Fundamentos de Programación para Ingeniería Mecánica\n",
        "## UPB Montería - 202310\n",
        "### Taller 5: Funciones y Estructuras de Datos\n",
        "- Docente: Miguel Ortiz (miguel.ortizp@upb.edu.co)"
      ]
    },
    {
      "cell_type": "markdown",
      "id": "b4381f55",
      "metadata": {
        "id": "b4381f55"
      },
      "source": [
        "Datos del Estudiante:\n",
        "- Nombre: Jose David Gallego Ortiz\n",
        "- ID:000516796\n",
        "- email:jose.gallegoo@upb.edu.co"
      ]
    },
    {
      "cell_type": "markdown",
      "id": "433f35a0",
      "metadata": {
        "id": "433f35a0"
      },
      "source": [
        "> Resuelva los siguientes ejercicios utilizando **Funciones, Listas y Diccionarios**."
      ]
    },
    {
      "cell_type": "markdown",
      "id": "aead929b",
      "metadata": {
        "id": "aead929b"
      },
      "source": [
        "### Problema 1: Discurso Político (150xp)\n",
        "\n",
        "Diseñe el algoritmo y escriba un código en lenguaje de programación Python para generar discursos políticos aleatorios, teniendo en cuenta la siguiente imagen:\n",
        "\n",
        "![componentes de un discurso](https://github.com/Mikheltodd/FunProgMec_202310_Taller5/blob/main/discurso.png?raw=1)\n",
        "\n",
        "Para ello, debe solicitar al usuario el nombre del candidato, un presupuesto general, y tres (3) porcentajes que representen los dineros que destinará a diferentes sectores seleccionados de forma aleatoria (lista de beneficio populista).\n",
        "\n",
        "Crea una función sin parámetros que retorne un string con el mensaje político. Dentro de la función deben aparecer los inputs para solicitar información al usuario. Guarda el mensaje creado por la función en una variable llamada `mensaje_politico` e imprime su valor en consola. \n",
        "\n",
        "**Ejemplo:**\n",
        "\n",
        "```\n",
        ">>> Entradas:\n",
        "Ingrese nombre del candidato: Chocolove McDonell\n",
        "Ingrese presupuesto (en millones de pesos): 1250\n",
        "Ingrese Porcentaje 1: 25\n",
        "Ingrese Porcentaje 2: 30\n",
        "Ingrese Porcentaje 3: 45\n",
        ">>> Salidas:\n",
        "Estimados copartidarios. \n",
        "Mi nombre es Chocolove McDonell y hoy vengo a decirles que, con su ayuda combatiré el desplazamiento y promoveré la educación de cada colombiano. Y es por eso que hoy he venido a proponerles invertir $1250.0 millones de pesos de la siguiente manera: \n",
        " - $312.5 millones de pesos en el empleo \n",
        " - $375.0 millones de pesos en la educación \n",
        " - $562.5 millones de pesos en la salud \n",
        "```\n",
        "\n",
        "**Nota:** para seleccionar un elemento aleatorio de una lista puede utilizar la función `choice()` de la librería random:\n",
        "\n",
        "```python\n",
        "import random\n",
        "random.choice([1, 2, 3])\n",
        "```\n",
        "\n",
        "**Recomendación:** cree las variables sin acento (tildes) y en minúsculas. "
      ]
    },
    {
      "cell_type": "code",
      "execution_count": 40,
      "id": "a78382aa",
      "metadata": {
        "colab": {
          "base_uri": "https://localhost:8080/"
        },
        "id": "a78382aa",
        "outputId": "ac7237d0-254b-4dbf-8011-11853405c7fd"
      },
      "outputs": [
        {
          "output_type": "stream",
          "name": "stdout",
          "text": [
            "Ingrese el nombre del candidatoPETRO\n",
            "Mi nombre es PETRO Honorablescompartidirarios\n",
            " con su ayuda vencere la corupccion y  protegere  la paz  de la comunidaden mi gobiernovencere la delicuencia y  protegere  el empleo  de la comunidad con presupuestado 8409909900  la seguridad \n",
            "con presupuestado  31396996960  la educacion \n",
            "con presupuestado  16259159140  la paz \n"
          ]
        }
      ],
      "source": [
        "nombre = input(\"Ingrese el nombre del candidato\")\n",
        "presupuesto = 560660660\n",
        "porcentaje_1 = 15 * presupuesto\n",
        "porcentaje_2 = 56 * presupuesto\n",
        "porcentaje_3 = 29 * presupuesto\n",
        "\n",
        "\n",
        "titulo = [\"Queridos, apreciados\", \"distinguidos\", \"Honorables\", \"Estimados\", \"Respetados\"]\n",
        "Publico = [ \"amigos\",\"compartidirarios\", \"electores\"]\n",
        "Condicion = [\"en mi gobierno\" , \"con su apoyo\", \" siendo elegido \", \" con su ayuda \", \"si me siguen\", \"durante mi mandato\"]\n",
        "compromiso = [\"Voy a derrotar\", \"vencere\", \"eliminare\" , \"acabare\", \"luchare contra\"]\n",
        "ilusion = [ \"La violencia y \", \" la delicuencia y \", \" la corupccion y \", \" la pobreza y \", \"la inflacion y\"]\n",
        "promesa = [ \" Trabajare por \", \" garantizare \", \" protegere \", \" promovere \",\"defender\"]\n",
        "Beneficio= [\" la educacion \", \" el empleo \", \" la salud \", \" la seguridad \", \" la paz \", \" la iguladad \"]\n",
        "votos = [\" del pais \", \" de la ciudad\", \" de la comunidad\", \" de la poblacion\",\" de cada colmbiano \"]\n",
        "\n",
        "discurso = {1:titulo, 2:Publico}\n",
        "frase = \"\"\n",
        "import random\n",
        "\n",
        "lines = 1\n",
        "for i in range(lines):\n",
        "  for values in discurso.values():\n",
        "    frase += random.choice(values)\n",
        "print(\"Mi nombre es\", nombre, frase)\n",
        "\n",
        "discurso_2 = {3:Condicion , 4:compromiso , 5:ilusion , 6:promesa , 7:Beneficio , 8:votos}\n",
        "frase_2 = \"\"\n",
        "import random \n",
        "\n",
        "lines = 2\n",
        "for i in range(lines):\n",
        "  for values in discurso_2.values():\n",
        "    frase_2 += random.choice(values)\n",
        "print(frase_2, \"con presupuestado\",+ porcentaje_1, Beneficio [3])\n",
        "\n",
        "discurso_3 = {7:Beneficio}\n",
        "frase_3 = \"\"\n",
        "import random\n",
        "lines = 1\n",
        "for i in range(lines):\n",
        "  for values in discurso_3.values():\n",
        "    frase += random.choice(values)\n",
        "print(\"con presupuestado \",+ porcentaje_2 ,Beneficio [0])\n",
        "\n",
        "discurso_3 = {7:Beneficio}\n",
        "frase_3 = \"\"\n",
        "import random\n",
        "lines = 1\n",
        "for i in range(lines):\n",
        "  for values in discurso_3.values():\n",
        "    frase += random.choice(values)\n",
        "print(\"con presupuestado \",+ porcentaje_3 ,Beneficio [4])\n",
        "\n",
        "\n",
        "\n"
      ]
    },
    {
      "cell_type": "code",
      "source": [],
      "metadata": {
        "id": "n3wKVqWbYh0l"
      },
      "id": "n3wKVqWbYh0l",
      "execution_count": null,
      "outputs": []
    },
    {
      "cell_type": "code",
      "source": [],
      "metadata": {
        "id": "JC9i2xKZYiKn"
      },
      "id": "JC9i2xKZYiKn",
      "execution_count": null,
      "outputs": []
    },
    {
      "cell_type": "code",
      "execution_count": null,
      "id": "81812b6a",
      "metadata": {
        "id": "81812b6a"
      },
      "outputs": [],
      "source": []
    }
  ],
  "metadata": {
    "kernelspec": {
      "display_name": "Python 3 (ipykernel)",
      "language": "python",
      "name": "python3"
    },
    "language_info": {
      "codemirror_mode": {
        "name": "ipython",
        "version": 3
      },
      "file_extension": ".py",
      "mimetype": "text/x-python",
      "name": "python",
      "nbconvert_exporter": "python",
      "pygments_lexer": "ipython3",
      "version": "3.10.6"
    },
    "colab": {
      "provenance": [],
      "include_colab_link": true
    }
  },
  "nbformat": 4,
  "nbformat_minor": 5
}